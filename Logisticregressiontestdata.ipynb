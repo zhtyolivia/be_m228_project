{
 "cells": [
  {
   "cell_type": "code",
   "execution_count": 77,
   "id": "4e696ca1-ce49-41e2-8b50-6f1884149356",
   "metadata": {},
   "outputs": [
    {
     "name": "stdout",
     "output_type": "stream",
     "text": [
      "✅ File found! Proceeding to open the HDF5 file...\n",
      "Datasets inside the file: ['coords', 'features']\n",
      "\n",
      "Shape of 'features': (11118, 1024)\n",
      "Sample Features (first 5 rows):\n",
      "[[ 1.4743148  -0.66672665 -1.974797   ... -0.3268076   2.287257\n",
      "   0.6425188 ]\n",
      " [ 0.49487564 -0.9996067  -1.453786   ... -0.70884335  0.656675\n",
      "   0.96511996]\n",
      " [-1.0826533   0.16203742 -2.3214774  ...  0.04512507 -0.06246603\n",
      "   0.34042126]\n",
      " [-2.598149   -1.0536268  -1.3663765  ...  0.65569067 -0.8721822\n",
      "  -1.6494672 ]\n",
      " [-0.732723   -1.2198707  -2.5369122  ...  1.1126738  -0.04896246\n",
      "  -0.5632508 ]]\n",
      "\n",
      "Shape of 'coords': (11118, 2)\n",
      "Ignoring 'coords' as instructed.\n"
     ]
    }
   ],
   "source": [
    "\n",
    "import h5py\n",
    "import numpy as np\n",
    "import os\n",
    "\n",
    "\n",
    "file_path = \"/Users/jeethpawar/be228/TCGA/LUAD/TCGA-34-2605/TCGA-34-2605-01Z-00-DX1.h5\"\n",
    "\n",
    "\n",
    "\n",
    "\n",
    "if os.path.exists(file_path):\n",
    "    with h5py.File(file_path, \"r\") as h5_file:\n",
    "        \n",
    "        datasets = list(h5_file.keys())\n",
    "        print(f\"Datasets inside the file: {datasets}\")\n",
    "\n",
    "        # Extract & Check the Features Dataset\n",
    "        if \"features\" in datasets:\n",
    "            features = h5_file[\"features\"][:]  # Load all feature data\n",
    "            print(f\"\\nShape of 'features': {features.shape}\")  # Expected (num_tiles, 1024)\n",
    "            print(f\"Sample Features (first 5 rows):\\n{features[:5]}\")  # Print first 5 feature vectors\n",
    "\n",
    "       \n",
    "        if \"coords\" in datasets:\n",
    "            coords = h5_file[\"coords\"][:]\n",
    "            print(f\"\\nShape of 'coords': {coords.shape}\")  # Expected (num_tiles, 2)\n",
    "         \n"
   ]
  },
  {
   "cell_type": "code",
   "execution_count": 82,
   "id": "fd2ba205-03bc-4dda-9f30-5d6a242cfa32",
   "metadata": {},
   "outputs": [
    {
     "name": "stdout",
     "output_type": "stream",
     "text": [
      "Data Loaded Successfully!\n",
      "Total Samples: 71798\n",
      "Feature Dimension: 1024\n",
      "Labels Distribution: [34126 37672]\n"
     ]
    }
   ],
   "source": [
    "\n",
    "import h5py\n",
    "import numpy as np\n",
    "import os\n",
    "\n",
    "# Define Paths to LUAD and LUSC Folders\n",
    "base_path = \"/Users/jeethpawar/be228/TCGA\"\n",
    "luad_path = os.path.join(base_path, \"LUAD\")  # Folder containing LUAD .h5 files\n",
    "lusc_path = os.path.join(base_path, \"LUSC\")  # Folder containing LUSC .h5 files\n",
    "\n",
    "\n",
    "X = []  # Feature vectors\n",
    "y = []  # Labels (0 = LUAD, 1 = LUSC)\n",
    "\n",
    "# 📌 Step 4: Function to Load Features from HDF5 Files\n",
    "def load_features_from_folder(folder_path, label):\n",
    "    \"\"\"Loads features from all .h5 files in a folder and assigns a label.\"\"\"\n",
    "    for subdir, _, files in os.walk(folder_path):  # Walk through subdirectories\n",
    "        for file in files:\n",
    "            if file.endswith(\".h5\"):  # Ensure it's an HDF5 file\n",
    "                file_path = os.path.join(subdir, file)\n",
    "                with h5py.File(file_path, \"r\") as h5_file:\n",
    "                    if \"features\" in h5_file:\n",
    "                        features = h5_file[\"features\"][:]  # Extract features\n",
    "                        X.append(features)  # Append feature matrix\n",
    "                        y.append(np.full(features.shape[0], label))  # Assign labels\n",
    "\n",
    "\n",
    "load_features_from_folder(luad_path, label=0)  # LUAD -> 0\n",
    "load_features_from_folder(lusc_path, label=1)  # LUSC -> 1\n",
    "\n",
    "\n",
    "X = np.vstack(X)  # Stack all feature matrices into a single dataset\n",
    "y = np.concatenate(y)  # Flatten labels into a single array\n",
    "\n",
    "# 📌 Step 7: Print Dataset Information\n",
    "print(f\"Data Loaded Successfully!\")\n",
    "print(f\"Total Samples: {X.shape[0]}\")\n",
    "print(f\"Feature Dimension: {X.shape[1]}\")\n",
    "print(f\"Labels Distribution: {np.bincount(y)}\")  # Count LUAD (0) and LUSC (1)\n"
   ]
  },
  {
   "cell_type": "code",
   "execution_count": 80,
   "id": "8d79c259-08d0-454b-83e3-d5907118edc6",
   "metadata": {},
   "outputs": [
    {
     "name": "stdout",
     "output_type": "stream",
     "text": [
      "Collecting scikit-learn\n",
      "  Downloading scikit_learn-1.6.1-cp312-cp312-macosx_12_0_arm64.whl.metadata (31 kB)\n",
      "Requirement already satisfied: numpy>=1.19.5 in /opt/homebrew/Caskroom/miniconda/base/lib/python3.12/site-packages (from scikit-learn) (2.0.1)\n",
      "Requirement already satisfied: scipy>=1.6.0 in /opt/homebrew/Caskroom/miniconda/base/lib/python3.12/site-packages (from scikit-learn) (1.15.1)\n",
      "Collecting joblib>=1.2.0 (from scikit-learn)\n",
      "  Using cached joblib-1.4.2-py3-none-any.whl.metadata (5.4 kB)\n",
      "Collecting threadpoolctl>=3.1.0 (from scikit-learn)\n",
      "  Using cached threadpoolctl-3.5.0-py3-none-any.whl.metadata (13 kB)\n",
      "Downloading scikit_learn-1.6.1-cp312-cp312-macosx_12_0_arm64.whl (11.2 MB)\n",
      "\u001b[2K   \u001b[90m━━━━━━━━━━━━━━━━━━━━━━━━━━━━━━━━━━━━━━━━\u001b[0m \u001b[32m11.2/11.2 MB\u001b[0m \u001b[31m1.7 MB/s\u001b[0m eta \u001b[36m0:00:00\u001b[0ma \u001b[36m0:00:01\u001b[0m\n",
      "\u001b[?25hUsing cached joblib-1.4.2-py3-none-any.whl (301 kB)\n",
      "Using cached threadpoolctl-3.5.0-py3-none-any.whl (18 kB)\n",
      "Installing collected packages: threadpoolctl, joblib, scikit-learn\n",
      "Successfully installed joblib-1.4.2 scikit-learn-1.6.1 threadpoolctl-3.5.0\n"
     ]
    }
   ],
   "source": [
    "!pip install scikit-learn"
   ]
  },
  {
   "cell_type": "code",
   "execution_count": 81,
   "id": "90e239d2-6f18-4bbb-9951-70dcc7aa747f",
   "metadata": {},
   "outputs": [
    {
     "name": "stdout",
     "output_type": "stream",
     "text": [
      "✅ Logistic Regression Model Trained Successfully!\n",
      "🔹 Accuracy: 0.9997\n",
      "🔹 AUROC Score: 1.0000\n",
      "🔹 Precision: 0.9999\n",
      "🔹 Recall: 0.9995\n",
      "🔹 F1 Score: 0.9997\n"
     ]
    }
   ],
   "source": [
    "\n",
    "from sklearn.model_selection import train_test_split\n",
    "from sklearn.preprocessing import StandardScaler\n",
    "from sklearn.linear_model import LogisticRegression\n",
    "from sklearn.metrics import accuracy_score, roc_auc_score, precision_recall_fscore_support\n",
    "\n",
    "\n",
    "scaler = StandardScaler()\n",
    "X_scaled = scaler.fit_transform(X)  # Standardize feature values\n",
    "\n",
    "\n",
    "X_train, X_test, y_train, y_test = train_test_split(X_scaled, y, test_size=0.2, random_state=42, stratify=y)\n",
    "\n",
    "\n",
    "log_reg = LogisticRegression(max_iter=500)\n",
    "log_reg.fit(X_train, y_train)\n",
    "\n",
    "\n",
    "y_pred = log_reg.predict(X_test)\n",
    "y_pred_prob = log_reg.predict_proba(X_test)[:, 1]  # Get probability scores\n",
    "\n",
    "\n",
    "accuracy = accuracy_score(y_test, y_pred)\n",
    "auroc = roc_auc_score(y_test, y_pred_prob)\n",
    "precision, recall, f1, _ = precision_recall_fscore_support(y_test, y_pred, average=\"binary\")\n",
    "\n",
    "\n",
    "print(f\" Logistic Regression Model Trained Successfully!\")\n",
    "print(f\" Accuracy: {accuracy:.4f}\")\n",
    "print(f\" AUROC Score: {auroc:.4f}\")\n",
    "print(f\" Precision: {precision:.4f}\")\n",
    "print(f\" Recall: {recall:.4f}\")\n",
    "print(f\" F1 Score: {f1:.4f}\")\n"
   ]
  }
 ],
 "metadata": {
  "kernelspec": {
   "display_name": "Python 3 (ipykernel)",
   "language": "python",
   "name": "python3"
  },
  "language_info": {
   "codemirror_mode": {
    "name": "ipython",
    "version": 3
   },
   "file_extension": ".py",
   "mimetype": "text/x-python",
   "name": "python",
   "nbconvert_exporter": "python",
   "pygments_lexer": "ipython3",
   "version": "3.12.7"
  }
 },
 "nbformat": 4,
 "nbformat_minor": 5
}
