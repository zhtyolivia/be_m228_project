{
  "metadata": {
    "kernelspec": {
      "name": "javascript",
      "display_name": "JavaScript (Web Worker)",
      "language": "javascript"
    },
    "language_info": {
      "codemirror_mode": {
        "name": "javascript"
      },
      "file_extension": ".js",
      "mimetype": "text/javascript",
      "name": "javascript",
      "nbconvert_exporter": "javascript",
      "pygments_lexer": "javascript",
      "version": "es2017"
    }
  },
  "nbformat_minor": 5,
  "nbformat": 4,
  "cells": [
    {
      "id": "86c793ee-97b8-4ad7-9250-a53c53028f2c",
      "cell_type": "code",
      "source": "import os\nimport random\nimport h5py\nimport numpy as np\nfrom sklearn.model_selection import train_test_split\n\n# 💌 Step 1: Define the TCGA Folder Path\nbase_path = \"/Users/jeethpawar/be228/TCGA\"  # Update with your actual path\n\n# 💌 Step 2: List All `.h5` Files (Slides)\nh5_files = [f for f in os.listdir(base_path) if f.endswith(\".h5\")]\n\n# 💌 Step 3: Randomly Split Files into 80% Train, 20% Test\nrandom.seed(42)  # Ensure reproducibility\ntrain_files, test_files = train_test_split(h5_files, test_size=0.2, random_state=42)\n\n# 💌 Step 4: Initialize Feature and Label Lists\nX_train, y_train, X_test, y_test = [], [], [], []\n\n# 💌 Step 5: Function to Load Features from `.h5` Files\ndef load_features_from_h5(file_list, dataset_type):\n    \"\"\"Loads features and assigns labels for a list of `.h5` files.\"\"\"\n    for file_name in file_list:\n        file_path = os.path.join(base_path, file_name)\n\n        with h5py.File(file_path, \"r\") as h5_file:\n            if \"features\" in h5_file:\n                features = h5_file[\"features\"][:]  # Load all tiles' features\n                \n                # Determine label based on file location\n                label = 0 if \"LUAD\" in file_name else 1  # Assuming LUAD & LUSC naming convention\n                \n                # Assign data to correct dataset\n                if dataset_type == \"train\":\n                    X_train.append(features)\n                    y_train.append(np.full(features.shape[0], label))  # Assign label to all tiles\n                else:\n                    X_test.append(features)\n                    y_test.append(np.full(features.shape[0], label))\n\n# 💌 Step 6: Load Data into Train and Test Sets\nload_features_from_h5(train_files, dataset_type=\"train\")\nload_features_from_h5(test_files, dataset_type=\"test\")\n\n# 💌 Step 7: Convert Lists to Numpy Arrays\nX_train = np.vstack(X_train)  # Stack feature arrays\ny_train = np.concatenate(y_train)  # Merge labels\nX_test = np.vstack(X_test)\ny_test = np.concatenate(y_test)\n\n# 💌 Step 8: Print Dataset Summary\nprint(f\"✅ Slide-Based Split Completed!\")\nprint(f\"Total Training Slides: {len(train_files)}, Training Samples: {X_train.shape[0]}\")\nprint(f\"Total Testing Slides: {len(test_files)}, Testing Samples: {X_test.shape[0]}\")\nprint(f\"Feature Dimension: {X_train.shape[1]}\")\nprint(f\"Training Labels Distribution: {np.bincount(y_train)}\")\nprint(f\"Testing Labels Distribution: {np.bincount(y_test)}\")\n",
      "metadata": {
        "trusted": true
      },
      "outputs": [],
      "execution_count": null
    }
  ]
}